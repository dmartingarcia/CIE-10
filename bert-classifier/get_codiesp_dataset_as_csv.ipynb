{
 "cells": [
  {
   "cell_type": "code",
   "execution_count": 1,
   "metadata": {},
   "outputs": [
    {
     "name": "stdout",
     "output_type": "stream",
     "text": [
      "Created codiesp_D_source_train.csv file\n",
      "Created codiesp_D_source_test.csv file\n",
      "Created codiesp_D_source_validation.csv file\n",
      "Created codiesp_P_source_train.csv file\n",
      "Created codiesp_P_source_test.csv file\n",
      "Created codiesp_P_source_validation.csv file\n",
      "Created codiesp_X_source_train.csv file\n",
      "Created codiesp_X_source_test.csv file\n",
      "Created codiesp_X_source_validation.csv file\n",
      "Created codiesp_extra_cie_source_train.csv file\n",
      "Created codiesp_extra_mesh_source_train.csv file\n"
     ]
    }
   ],
   "source": [
    "from datasets import load_dataset\n",
    "import pandas as pd\n",
    "import os\n",
    "\n",
    "# Load the dataset with the specific configuration\n",
    "# List of all available configurations\n",
    "configs = ['codiesp_D_source', 'codiesp_P_source', 'codiesp_X_source',\n",
    "          'codiesp_extra_cie_source', 'codiesp_extra_mesh_source']\n",
    "\n",
    "# Dictionary to store all datasets\n",
    "datasets = {}\n",
    "\n",
    "# Load each configuration\n",
    "for config in configs:\n",
    "    datasets[config] = load_dataset(\"bigbio/codiesp\", name=config)\n",
    "\n",
    "# Process each split in the dataset\n",
    "# Process each configuration and its splits\n",
    "os.makedirs('codiesp_csvs', exist_ok=True)\n",
    "\n",
    "for config in datasets:\n",
    "    dataset = datasets[config]\n",
    "    for split in dataset.keys():\n",
    "        # Convert to pandas DataFrame and save as CSV\n",
    "        df = pd.DataFrame(dataset[split])\n",
    "        # Remove 'id' and 'document_id' columns if they exist\n",
    "        columns_to_drop = ['id', 'document_id']\n",
    "        df = df.drop(columns=[col for col in columns_to_drop if col in df.columns])\n",
    "        df.to_csv(f'codiesp_csvs/{config}_{split}.csv', index=False)\n",
    "        print(f\"Created {config}_{split}.csv file\")"
   ]
  }
 ],
 "metadata": {
  "kernelspec": {
   "display_name": "Python 3",
   "language": "python",
   "name": "python3"
  },
  "language_info": {
   "codemirror_mode": {
    "name": "ipython",
    "version": 3
   },
   "file_extension": ".py",
   "mimetype": "text/x-python",
   "name": "python",
   "nbconvert_exporter": "python",
   "pygments_lexer": "ipython3",
   "version": "3.12.8"
  }
 },
 "nbformat": 4,
 "nbformat_minor": 2
}
